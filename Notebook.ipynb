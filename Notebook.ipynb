{
 "cells": [
  {
   "cell_type": "markdown",
   "metadata": {},
   "source": [
    "# QCTO - Workplace Module\n",
    "\n",
    "### Project Title: Please Insert your Project Title Here\n",
    "#### Done By: Name and Surname\n",
    "\n",
    "© ExploreAI 2024\n",
    "\n",
    "---\n",
    "\n",
    "## Table of Contents\n",
    "\n",
    "<a href=#BC> Background Context</a>\n",
    "\n",
    "<a href=#one>1. Importing Packages</a>\n",
    "\n",
    "<a href=#two>2. Data Collection and Description</a>\n",
    "\n",
    "<a href=#three>3. Loading Data </a>\n",
    "\n",
    "<a href=#four>4. Data Cleaning and Filtering</a>\n",
    "\n",
    "<a href=#five>5. Exploratory Data Analysis (EDA)</a>\n",
    "\n",
    "<a href=#six>6. Modeling </a>\n",
    "\n",
    "<a href=#seven>7. Evaluation and Validation</a>\n",
    "\n",
    "<a href=#eight>8. Final Model</a>\n",
    "\n",
    "<a href=#nine>9. Conclusion and Future Work</a>\n",
    "\n",
    "<a href=#ten>10. References</a>"
   ]
  },
  {
   "cell_type": "markdown",
   "metadata": {},
   "source": [
    "---\n",
    " <a id=\"BC\"></a>\n",
    "## **Background Context**\n",
    "<a href=#cont>Back to Table of Contents</a>\n",
    "\n",
    "* **Purpose:** Introduce the project, outline its goals, and explain its significance.\n",
    "* **Details:** Include information about the problem domain, the specific questions or challenges the project aims to address, and any relevant background information that sets the stage for the work.\n",
    "---"
   ]
  },
  {
   "cell_type": "markdown",
   "metadata": {},
   "source": [
    "---\n",
    "<a href=#one></a>\n",
    "## **Importing Packages**\n",
    "<a href=#cont>Back to Table of Contents</a>\n",
    "\n",
    "* **Purpose:** Set up the Python environment with necessary libraries and tools.\n",
    "* **Details:** List and import all the Python packages that will be used throughout the project such as Pandas for data manipulation, Matplotlib/Seaborn for visualization, scikit-learn for modeling, etc.\n",
    "---"
   ]
  },
  {
   "cell_type": "code",
   "execution_count": 1,
   "metadata": {},
   "outputs": [],
   "source": [
    "import sklearn as sk\n",
    "import seaborn as sn\n",
    "import matplotlib as plt\n",
    "import pandas as pd\n",
    "import numpy as np"
   ]
  },
  {
   "cell_type": "markdown",
   "metadata": {},
   "source": [
    "---\n",
    "<a href=#two></a>\n",
    "## **Data Collection and Description**\n",
    "<a href=#cont>Back to Table of Contents</a>\n",
    "\n",
    "* **Purpose:** Describe how the data was collected and provide an overview of its characteristics.\n",
    "* **Details:** Mention sources of the data, the methods used for collection (e.g., APIs, web scraping, datasets from repositories), and a general description of the dataset including size, scope, and types of data available (e.g., numerical, categorical).\n",
    "---"
   ]
  },
  {
   "cell_type": "markdown",
   "metadata": {},
   "source": [
    "Weekly avocado sales and pricing data, collected by the Hass Avocado Board between 2015 and 2023, was used for this project. The data was obtained from Kaggle at this [link](https://www.kaggle.com/datasets/vakhariapujan/avocado-prices-and-sales-volume-2015-2023/data) and is stored in the `Data/Avocado_HassAvocadoBoard_20152023.csv` file. \n",
    "\n",
    "The data consists of 12 features and 53.4k observations.\n",
    "The features are as follows:\n",
    "\n",
    "* `Date` (datetime): The date of data recording for that week.\n",
    "* `AveragePrice` (float): The average selling price per unit.\n",
    "* `TotalVolume` (float): The total volumne by weight in pounds.\n",
    "* `plu4046`: The number of bulk units of small/medium hass avocados (~3-5oz) sold in the week.\n",
    "* `plu4225`: The number of bulk units of small/medium hass avocados (~8-10oz) sold in the week.\n",
    "* `plu4046`: The number of bulk units of large hass avocados (~3-5oz) sold in the week.\n",
    "* `plu4770`: The number of bulk units of extra large hass avocados (~10-15oz) sold in the week.\n",
    "* `TotalBags`: The total number of bags sold in the week. Bags consist of a variable number of avocados of mixed PLU type.\n",
    "* `SmallBags`: The total number of small bags sold in the week. Bags consist of a variable number of avocados of mixed PLU type.\n",
    "* `LargeBags`: The total number of large bags sold in the week. Bags consist of a variable number of avocados of mixed PLU type.\n",
    "* `XLargeBags`: The total number of extra large bags sold in the week. Bags consist of a variable number of avocados of mixed PLU type.\n",
    "* `type`: The type of avocado (conventional/organic).\n",
    "* `region`: Regions in the US in which the avocados were sold. TotalUS sales are also included."
   ]
  },
  {
   "cell_type": "markdown",
   "metadata": {},
   "source": [
    "---\n",
    "<a href=#three></a>\n",
    "## **Loading Data**\n",
    "<a href=#cont>Back to Table of Contents</a>\n",
    "\n",
    "* **Purpose:** Load the data into the notebook for manipulation and analysis.\n",
    "* **Details:** Show the code used to load the data and display the first few rows to give a sense of what the raw data looks like.\n",
    "---"
   ]
  },
  {
   "cell_type": "code",
   "execution_count": 2,
   "metadata": {},
   "outputs": [
    {
     "data": {
      "text/html": [
       "<div>\n",
       "<style scoped>\n",
       "    .dataframe tbody tr th:only-of-type {\n",
       "        vertical-align: middle;\n",
       "    }\n",
       "\n",
       "    .dataframe tbody tr th {\n",
       "        vertical-align: top;\n",
       "    }\n",
       "\n",
       "    .dataframe thead th {\n",
       "        text-align: right;\n",
       "    }\n",
       "</style>\n",
       "<table border=\"1\" class=\"dataframe\">\n",
       "  <thead>\n",
       "    <tr style=\"text-align: right;\">\n",
       "      <th></th>\n",
       "      <th>Date</th>\n",
       "      <th>AveragePrice</th>\n",
       "      <th>TotalVolume</th>\n",
       "      <th>plu4046</th>\n",
       "      <th>plu4225</th>\n",
       "      <th>plu4770</th>\n",
       "      <th>TotalBags</th>\n",
       "      <th>SmallBags</th>\n",
       "      <th>LargeBags</th>\n",
       "      <th>XLargeBags</th>\n",
       "      <th>type</th>\n",
       "      <th>region</th>\n",
       "    </tr>\n",
       "  </thead>\n",
       "  <tbody>\n",
       "    <tr>\n",
       "      <th>0</th>\n",
       "      <td>2015-01-04</td>\n",
       "      <td>1.22</td>\n",
       "      <td>40873.28</td>\n",
       "      <td>2819.50</td>\n",
       "      <td>28287.42</td>\n",
       "      <td>49.90</td>\n",
       "      <td>9716.46</td>\n",
       "      <td>9186.93</td>\n",
       "      <td>529.53</td>\n",
       "      <td>0.0</td>\n",
       "      <td>conventional</td>\n",
       "      <td>Albany</td>\n",
       "    </tr>\n",
       "    <tr>\n",
       "      <th>1</th>\n",
       "      <td>2015-01-04</td>\n",
       "      <td>1.79</td>\n",
       "      <td>1373.95</td>\n",
       "      <td>57.42</td>\n",
       "      <td>153.88</td>\n",
       "      <td>0.00</td>\n",
       "      <td>1162.65</td>\n",
       "      <td>1162.65</td>\n",
       "      <td>0.00</td>\n",
       "      <td>0.0</td>\n",
       "      <td>organic</td>\n",
       "      <td>Albany</td>\n",
       "    </tr>\n",
       "    <tr>\n",
       "      <th>2</th>\n",
       "      <td>2015-01-04</td>\n",
       "      <td>1.00</td>\n",
       "      <td>435021.49</td>\n",
       "      <td>364302.39</td>\n",
       "      <td>23821.16</td>\n",
       "      <td>82.15</td>\n",
       "      <td>46815.79</td>\n",
       "      <td>16707.15</td>\n",
       "      <td>30108.64</td>\n",
       "      <td>0.0</td>\n",
       "      <td>conventional</td>\n",
       "      <td>Atlanta</td>\n",
       "    </tr>\n",
       "    <tr>\n",
       "      <th>3</th>\n",
       "      <td>2015-01-04</td>\n",
       "      <td>1.76</td>\n",
       "      <td>3846.69</td>\n",
       "      <td>1500.15</td>\n",
       "      <td>938.35</td>\n",
       "      <td>0.00</td>\n",
       "      <td>1408.19</td>\n",
       "      <td>1071.35</td>\n",
       "      <td>336.84</td>\n",
       "      <td>0.0</td>\n",
       "      <td>organic</td>\n",
       "      <td>Atlanta</td>\n",
       "    </tr>\n",
       "    <tr>\n",
       "      <th>4</th>\n",
       "      <td>2015-01-04</td>\n",
       "      <td>1.08</td>\n",
       "      <td>788025.06</td>\n",
       "      <td>53987.31</td>\n",
       "      <td>552906.04</td>\n",
       "      <td>39995.03</td>\n",
       "      <td>141136.68</td>\n",
       "      <td>137146.07</td>\n",
       "      <td>3990.61</td>\n",
       "      <td>0.0</td>\n",
       "      <td>conventional</td>\n",
       "      <td>BaltimoreWashington</td>\n",
       "    </tr>\n",
       "  </tbody>\n",
       "</table>\n",
       "</div>"
      ],
      "text/plain": [
       "         Date  AveragePrice  TotalVolume    plu4046    plu4225   plu4770  \\\n",
       "0  2015-01-04          1.22     40873.28    2819.50   28287.42     49.90   \n",
       "1  2015-01-04          1.79      1373.95      57.42     153.88      0.00   \n",
       "2  2015-01-04          1.00    435021.49  364302.39   23821.16     82.15   \n",
       "3  2015-01-04          1.76      3846.69    1500.15     938.35      0.00   \n",
       "4  2015-01-04          1.08    788025.06   53987.31  552906.04  39995.03   \n",
       "\n",
       "   TotalBags  SmallBags  LargeBags  XLargeBags          type  \\\n",
       "0    9716.46    9186.93     529.53         0.0  conventional   \n",
       "1    1162.65    1162.65       0.00         0.0       organic   \n",
       "2   46815.79   16707.15   30108.64         0.0  conventional   \n",
       "3    1408.19    1071.35     336.84         0.0       organic   \n",
       "4  141136.68  137146.07    3990.61         0.0  conventional   \n",
       "\n",
       "                region  \n",
       "0               Albany  \n",
       "1               Albany  \n",
       "2              Atlanta  \n",
       "3              Atlanta  \n",
       "4  BaltimoreWashington  "
      ]
     },
     "execution_count": 2,
     "metadata": {},
     "output_type": "execute_result"
    }
   ],
   "source": [
    "dairy_data = pd.read_csv(r'Data/Avocado_HassAvocadoBoard_20152023.csv', sep=',')\n",
    "dairy_data.head(5)"
   ]
  },
  {
   "cell_type": "markdown",
   "metadata": {},
   "source": [
    "---\n",
    "<a href=#four></a>\n",
    "## **Data Cleaning and Filtering**\n",
    "<a href=#cont>Back to Table of Contents</a>\n",
    "\n",
    "* **Purpose:** Prepare the data for analysis by cleaning and filtering.\n",
    "* **Details:** Include steps for handling missing values, removing outliers, correcting errors, and possibly reducing the data (filtering based on certain criteria or features).\n",
    "---"
   ]
  },
  {
   "cell_type": "markdown",
   "metadata": {},
   "source": [
    "Remove irrelevant features."
   ]
  },
  {
   "cell_type": "code",
   "execution_count": 3,
   "metadata": {},
   "outputs": [],
   "source": [
    "dairy_data = dairy_data.drop(\n",
    "    columns=[\n",
    "        \"Total Land Area (acres)\",\n",
    "        \"Number of Cows\",\n",
    "        \"Farm Size\",\n",
    "        \"Product ID\",\n",
    "        \"Total Value\",\n",
    "        \"Shelf Life (days)\",\n",
    "        \"Storage Condition\",\n",
    "        \"Production Date\",\n",
    "        \"Expiration Date\",\n",
    "        \"Price per Unit\",\n",
    "        \"Approx. Total Revenue(INR)\",\n",
    "        \"Quantity in Stock (liters/kg)\",\n",
    "        \"Reorder Quantity (liters/kg)\",\n",
    "    ]\n",
    ")"
   ]
  },
  {
   "cell_type": "markdown",
   "metadata": {},
   "source": [
    "To assist with spotting errors in the data, print summary statistics for the numerical columns."
   ]
  },
  {
   "cell_type": "code",
   "execution_count": 4,
   "metadata": {},
   "outputs": [
    {
     "data": {
      "text/html": [
       "<div>\n",
       "<style scoped>\n",
       "    .dataframe tbody tr th:only-of-type {\n",
       "        vertical-align: middle;\n",
       "    }\n",
       "\n",
       "    .dataframe tbody tr th {\n",
       "        vertical-align: top;\n",
       "    }\n",
       "\n",
       "    .dataframe thead th {\n",
       "        text-align: right;\n",
       "    }\n",
       "</style>\n",
       "<table border=\"1\" class=\"dataframe\">\n",
       "  <thead>\n",
       "    <tr style=\"text-align: right;\">\n",
       "      <th></th>\n",
       "      <th>count</th>\n",
       "      <th>mean</th>\n",
       "      <th>std</th>\n",
       "      <th>min</th>\n",
       "      <th>25%</th>\n",
       "      <th>50%</th>\n",
       "      <th>75%</th>\n",
       "      <th>max</th>\n",
       "    </tr>\n",
       "  </thead>\n",
       "  <tbody>\n",
       "    <tr>\n",
       "      <th>Quantity (liters/kg)</th>\n",
       "      <td>4325.0</td>\n",
       "      <td>500.652657</td>\n",
       "      <td>288.975915</td>\n",
       "      <td>1.17</td>\n",
       "      <td>254.17</td>\n",
       "      <td>497.55</td>\n",
       "      <td>749.78</td>\n",
       "      <td>999.93</td>\n",
       "    </tr>\n",
       "    <tr>\n",
       "      <th>Quantity Sold (liters/kg)</th>\n",
       "      <td>4325.0</td>\n",
       "      <td>248.095029</td>\n",
       "      <td>217.024182</td>\n",
       "      <td>1.00</td>\n",
       "      <td>69.00</td>\n",
       "      <td>189.00</td>\n",
       "      <td>374.00</td>\n",
       "      <td>960.00</td>\n",
       "    </tr>\n",
       "    <tr>\n",
       "      <th>Price per Unit (sold)</th>\n",
       "      <td>4325.0</td>\n",
       "      <td>54.779140</td>\n",
       "      <td>26.192790</td>\n",
       "      <td>5.21</td>\n",
       "      <td>32.64</td>\n",
       "      <td>54.14</td>\n",
       "      <td>77.46</td>\n",
       "      <td>104.51</td>\n",
       "    </tr>\n",
       "    <tr>\n",
       "      <th>Minimum Stock Threshold (liters/kg)</th>\n",
       "      <td>4325.0</td>\n",
       "      <td>55.826143</td>\n",
       "      <td>26.301450</td>\n",
       "      <td>10.02</td>\n",
       "      <td>32.91</td>\n",
       "      <td>56.46</td>\n",
       "      <td>79.01</td>\n",
       "      <td>99.99</td>\n",
       "    </tr>\n",
       "  </tbody>\n",
       "</table>\n",
       "</div>"
      ],
      "text/plain": [
       "                                      count        mean         std    min  \\\n",
       "Quantity (liters/kg)                 4325.0  500.652657  288.975915   1.17   \n",
       "Quantity Sold (liters/kg)            4325.0  248.095029  217.024182   1.00   \n",
       "Price per Unit (sold)                4325.0   54.779140   26.192790   5.21   \n",
       "Minimum Stock Threshold (liters/kg)  4325.0   55.826143   26.301450  10.02   \n",
       "\n",
       "                                        25%     50%     75%     max  \n",
       "Quantity (liters/kg)                 254.17  497.55  749.78  999.93  \n",
       "Quantity Sold (liters/kg)             69.00  189.00  374.00  960.00  \n",
       "Price per Unit (sold)                 32.64   54.14   77.46  104.51  \n",
       "Minimum Stock Threshold (liters/kg)   32.91   56.46   79.01   99.99  "
      ]
     },
     "execution_count": 4,
     "metadata": {},
     "output_type": "execute_result"
    }
   ],
   "source": [
    "dairy_data.describe().T"
   ]
  },
  {
   "cell_type": "markdown",
   "metadata": {},
   "source": [
    "Determine if there are any missing values."
   ]
  },
  {
   "cell_type": "code",
   "execution_count": 5,
   "metadata": {},
   "outputs": [
    {
     "data": {
      "text/plain": [
       "Location                               0\n",
       "Date                                   0\n",
       "Product Name                           0\n",
       "Brand                                  0\n",
       "Quantity (liters/kg)                   0\n",
       "Quantity Sold (liters/kg)              0\n",
       "Price per Unit (sold)                  0\n",
       "Customer Location                      0\n",
       "Sales Channel                          0\n",
       "Minimum Stock Threshold (liters/kg)    0\n",
       "dtype: int64"
      ]
     },
     "execution_count": 5,
     "metadata": {},
     "output_type": "execute_result"
    }
   ],
   "source": [
    "dairy_data.isnull().sum(axis=0)"
   ]
  },
  {
   "cell_type": "markdown",
   "metadata": {},
   "source": [
    "Verify that the column data types are correct."
   ]
  },
  {
   "cell_type": "code",
   "execution_count": 6,
   "metadata": {},
   "outputs": [
    {
     "data": {
      "text/plain": [
       "Location                                object\n",
       "Date                                    object\n",
       "Product Name                            object\n",
       "Brand                                   object\n",
       "Quantity (liters/kg)                   float64\n",
       "Quantity Sold (liters/kg)                int64\n",
       "Price per Unit (sold)                  float64\n",
       "Customer Location                       object\n",
       "Sales Channel                           object\n",
       "Minimum Stock Threshold (liters/kg)    float64\n",
       "dtype: object"
      ]
     },
     "execution_count": 6,
     "metadata": {},
     "output_type": "execute_result"
    }
   ],
   "source": [
    "dairy_data.dtypes"
   ]
  },
  {
   "cell_type": "markdown",
   "metadata": {},
   "source": [
    "Rename the columns in a snake_case format to facilitate ease of analysis."
   ]
  },
  {
   "cell_type": "code",
   "execution_count": 7,
   "metadata": {},
   "outputs": [],
   "source": [
    "dairy_data = dairy_data.rename(\n",
    "    columns={\n",
    "        \"Location\": \"location\",\n",
    "        \"Date\": \"date\",\n",
    "        \"Product Name\": \"product_name\",\n",
    "        \"Brand\": \"brand\",\n",
    "        \"Quantity (liters/kg)\": \"quantity\",\n",
    "        \"Quantity Sold (liters/kg)\": \"quantity_sold\",\n",
    "        \"Price per Unit (sold)\": \"price_per_unit_sold\",\n",
    "        \"Customer Location\": \"customer_location\",\n",
    "        \"Sales Channel\": \"sales_channel\",\n",
    "        \"Minimum Stock Threshold (liters/kg)\": \"min_stock_threshold\"        \n",
    "    }\n",
    ")"
   ]
  },
  {
   "cell_type": "markdown",
   "metadata": {},
   "source": [
    "Extract year and month data into separate columns."
   ]
  },
  {
   "cell_type": "code",
   "execution_count": 8,
   "metadata": {},
   "outputs": [],
   "source": [
    "dairy_data['year'] = pd.DatetimeIndex(dairy_data['date']).year\n",
    "dairy_data['month'] = pd.DatetimeIndex(dairy_data['date']).month\n",
    "dairy_data = dairy_data.drop(columns=['date'])"
   ]
  },
  {
   "cell_type": "markdown",
   "metadata": {},
   "source": [
    "View cleaned data."
   ]
  },
  {
   "cell_type": "code",
   "execution_count": 9,
   "metadata": {},
   "outputs": [
    {
     "data": {
      "text/html": [
       "<div>\n",
       "<style scoped>\n",
       "    .dataframe tbody tr th:only-of-type {\n",
       "        vertical-align: middle;\n",
       "    }\n",
       "\n",
       "    .dataframe tbody tr th {\n",
       "        vertical-align: top;\n",
       "    }\n",
       "\n",
       "    .dataframe thead th {\n",
       "        text-align: right;\n",
       "    }\n",
       "</style>\n",
       "<table border=\"1\" class=\"dataframe\">\n",
       "  <thead>\n",
       "    <tr style=\"text-align: right;\">\n",
       "      <th></th>\n",
       "      <th>location</th>\n",
       "      <th>product_name</th>\n",
       "      <th>brand</th>\n",
       "      <th>quantity</th>\n",
       "      <th>quantity_sold</th>\n",
       "      <th>price_per_unit_sold</th>\n",
       "      <th>customer_location</th>\n",
       "      <th>sales_channel</th>\n",
       "      <th>min_stock_threshold</th>\n",
       "      <th>year</th>\n",
       "      <th>month</th>\n",
       "    </tr>\n",
       "  </thead>\n",
       "  <tbody>\n",
       "    <tr>\n",
       "      <th>0</th>\n",
       "      <td>Telangana</td>\n",
       "      <td>Ice Cream</td>\n",
       "      <td>Dodla Dairy</td>\n",
       "      <td>222.40</td>\n",
       "      <td>7</td>\n",
       "      <td>82.24</td>\n",
       "      <td>Madhya Pradesh</td>\n",
       "      <td>Wholesale</td>\n",
       "      <td>19.55</td>\n",
       "      <td>2022</td>\n",
       "      <td>2</td>\n",
       "    </tr>\n",
       "    <tr>\n",
       "      <th>1</th>\n",
       "      <td>Uttar Pradesh</td>\n",
       "      <td>Milk</td>\n",
       "      <td>Amul</td>\n",
       "      <td>687.48</td>\n",
       "      <td>558</td>\n",
       "      <td>39.24</td>\n",
       "      <td>Kerala</td>\n",
       "      <td>Wholesale</td>\n",
       "      <td>43.17</td>\n",
       "      <td>2021</td>\n",
       "      <td>12</td>\n",
       "    </tr>\n",
       "    <tr>\n",
       "      <th>2</th>\n",
       "      <td>Tamil Nadu</td>\n",
       "      <td>Yogurt</td>\n",
       "      <td>Dodla Dairy</td>\n",
       "      <td>503.48</td>\n",
       "      <td>256</td>\n",
       "      <td>33.81</td>\n",
       "      <td>Madhya Pradesh</td>\n",
       "      <td>Online</td>\n",
       "      <td>15.10</td>\n",
       "      <td>2022</td>\n",
       "      <td>2</td>\n",
       "    </tr>\n",
       "    <tr>\n",
       "      <th>3</th>\n",
       "      <td>Telangana</td>\n",
       "      <td>Cheese</td>\n",
       "      <td>Britannia Industries</td>\n",
       "      <td>823.36</td>\n",
       "      <td>601</td>\n",
       "      <td>28.92</td>\n",
       "      <td>Rajasthan</td>\n",
       "      <td>Online</td>\n",
       "      <td>74.50</td>\n",
       "      <td>2019</td>\n",
       "      <td>6</td>\n",
       "    </tr>\n",
       "    <tr>\n",
       "      <th>4</th>\n",
       "      <td>Maharashtra</td>\n",
       "      <td>Buttermilk</td>\n",
       "      <td>Mother Dairy</td>\n",
       "      <td>147.77</td>\n",
       "      <td>145</td>\n",
       "      <td>83.07</td>\n",
       "      <td>Jharkhand</td>\n",
       "      <td>Retail</td>\n",
       "      <td>76.02</td>\n",
       "      <td>2020</td>\n",
       "      <td>12</td>\n",
       "    </tr>\n",
       "  </tbody>\n",
       "</table>\n",
       "</div>"
      ],
      "text/plain": [
       "        location product_name                 brand  quantity  quantity_sold  \\\n",
       "0      Telangana    Ice Cream           Dodla Dairy    222.40              7   \n",
       "1  Uttar Pradesh         Milk                  Amul    687.48            558   \n",
       "2     Tamil Nadu       Yogurt           Dodla Dairy    503.48            256   \n",
       "3      Telangana       Cheese  Britannia Industries    823.36            601   \n",
       "4    Maharashtra   Buttermilk          Mother Dairy    147.77            145   \n",
       "\n",
       "   price_per_unit_sold customer_location sales_channel  min_stock_threshold  \\\n",
       "0                82.24    Madhya Pradesh     Wholesale                19.55   \n",
       "1                39.24            Kerala     Wholesale                43.17   \n",
       "2                33.81    Madhya Pradesh        Online                15.10   \n",
       "3                28.92         Rajasthan        Online                74.50   \n",
       "4                83.07         Jharkhand        Retail                76.02   \n",
       "\n",
       "   year  month  \n",
       "0  2022      2  \n",
       "1  2021     12  \n",
       "2  2022      2  \n",
       "3  2019      6  \n",
       "4  2020     12  "
      ]
     },
     "execution_count": 9,
     "metadata": {},
     "output_type": "execute_result"
    }
   ],
   "source": [
    "dairy_data.head(5)"
   ]
  },
  {
   "cell_type": "markdown",
   "metadata": {},
   "source": [
    "---\n",
    "<a href=#five></a>\n",
    "## **Exploratory Data Analysis (EDA)**\n",
    "<a href=#cont>Back to Table of Contents</a>\n",
    "\n",
    "* **Purpose:** Explore and visualize the data to uncover patterns, trends, and relationships.\n",
    "* **Details:** Use statistics and visualizations to explore the data. This may include histograms, box plots, scatter plots, and correlation matrices. Discuss any significant findings.\n",
    "---\n"
   ]
  },
  {
   "cell_type": "code",
   "execution_count": 10,
   "metadata": {},
   "outputs": [],
   "source": [
    "#Please use code cells to code in and do not forget to comment your code."
   ]
  },
  {
   "cell_type": "markdown",
   "metadata": {},
   "source": [
    "---\n",
    "<a href=#six></a>\n",
    "## **Modeling**\n",
    "<a href=#cont>Back to Table of Contents</a>\n",
    "\n",
    "* **Purpose:** Develop and train predictive or statistical models.\n",
    "* **Details:** Describe the choice of models, feature selection and engineering processes, and show how the models are trained. Include code for setting up the models and explanations of the model parameters.\n",
    "---\n"
   ]
  },
  {
   "cell_type": "code",
   "execution_count": 11,
   "metadata": {},
   "outputs": [],
   "source": [
    "#Please use code cells to code in and do not forget to comment your code."
   ]
  },
  {
   "cell_type": "markdown",
   "metadata": {},
   "source": [
    "---\n",
    "<a href=#seven></a>\n",
    "## **Evaluation and Validation**\n",
    "<a href=#cont>Back to Table of Contents</a>\n",
    "\n",
    "* **Purpose:** Evaluate and validate the effectiveness and accuracy of the models.\n",
    "* **Details:** Present metrics used to evaluate the models, such as accuracy, precision, recall, F1-score, etc. Discuss validation techniques employed, such as cross-validation or train/test split.\n",
    "---"
   ]
  },
  {
   "cell_type": "code",
   "execution_count": 12,
   "metadata": {},
   "outputs": [],
   "source": [
    "#Please use code cells to code in and do not forget to comment your code."
   ]
  },
  {
   "cell_type": "markdown",
   "metadata": {},
   "source": [
    "---\n",
    "<a href=#eight></a>\n",
    "## **Final Model**\n",
    "<a href=#cont>Back to Table of Contents</a>\n",
    "\n",
    "* **Purpose:** Present the final model and its performance.\n",
    "* **Details:** Highlight the best-performing model and discuss its configuration, performance, and why it was chosen over others.\n",
    "---\n"
   ]
  },
  {
   "cell_type": "code",
   "execution_count": 13,
   "metadata": {},
   "outputs": [],
   "source": [
    "#Please use code cells to code in and do not forget to comment your code."
   ]
  },
  {
   "cell_type": "markdown",
   "metadata": {},
   "source": [
    "---\n",
    "<a href=#nine></a>\n",
    "## **Conclusion and Future Work**\n",
    "<a href=#cont>Back to Table of Contents</a>\n",
    "\n",
    "* **Purpose:** Summarize the findings and discuss future directions.\n",
    "* **Details:** Conclude with a summary of the results, insights gained, limitations of the study, and suggestions for future projects or improvements in methodology or data collection.\n",
    "---\n"
   ]
  },
  {
   "cell_type": "code",
   "execution_count": 14,
   "metadata": {},
   "outputs": [],
   "source": [
    "#Please use code cells to code in and do not forget to comment your code."
   ]
  },
  {
   "cell_type": "markdown",
   "metadata": {},
   "source": [
    "---\n",
    "<a href=#ten></a>\n",
    "## **References**\n",
    "<a href=#cont>Back to Table of Contents</a>\n",
    "\n",
    "* **Purpose:** Provide citations and sources of external content.\n",
    "* **Details:** List all the references and sources consulted during the project, including data sources, research papers, and documentation for tools and libraries used.\n",
    "---"
   ]
  },
  {
   "cell_type": "code",
   "execution_count": 15,
   "metadata": {},
   "outputs": [],
   "source": [
    "#Please use code cells to code in and do not forget to comment your code."
   ]
  },
  {
   "cell_type": "markdown",
   "metadata": {},
   "source": [
    "## Additional Sections to Consider\n",
    "\n",
    "* ### Appendix: \n",
    "For any additional code, detailed tables, or extended data visualizations that are supplementary to the main content.\n",
    "\n",
    "* ### Contributors: \n",
    "If this is a group project, list the contributors and their roles or contributions to the project.\n"
   ]
  }
 ],
 "metadata": {
  "kernelspec": {
   "display_name": "env",
   "language": "python",
   "name": "python3"
  },
  "language_info": {
   "codemirror_mode": {
    "name": "ipython",
    "version": 3
   },
   "file_extension": ".py",
   "mimetype": "text/x-python",
   "name": "python",
   "nbconvert_exporter": "python",
   "pygments_lexer": "ipython3",
   "version": "3.9.13"
  },
  "orig_nbformat": 4
 },
 "nbformat": 4,
 "nbformat_minor": 2
}
